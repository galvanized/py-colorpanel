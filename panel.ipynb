{
 "cells": [
  {
   "cell_type": "code",
   "execution_count": 1,
   "metadata": {},
   "outputs": [],
   "source": [
    "import colour\n",
    "from colour.plotting import *\n",
    "\n",
    "import itertools\n",
    "\n",
    "from sympy.ntheory import factorint\n",
    "\n",
    "class Color():\n",
    "    def __init__(self,rgb=None,xyy=None,xyz=None):\n",
    "        \n",
    "        if xyz:\n",
    "            self.XYZ = xyz\n",
    "            self.RGB = colour.XYZ_to_sRGB(xyz)\n",
    "        elif xyy:\n",
    "            self.XYZ = colour.xyY_to_XYZ(xyy)\n",
    "            self.RGB = colour.XYZ_to_sRGB(self.XYZ)\n",
    "        elif rgb:\n",
    "            self.XYZ = colour.sRGB_to_XYZ(rgb)\n",
    "            self.RGB = rgb\n",
    "            \n",
    "    def __repr__(self):\n",
    "        return '({:3.0f}, {:3.0f}, {:3.0f})'.format(*[n*255 for n in self.RGB])\n",
    "            \n",
    "\n",
    "custom_colors = [\n",
    "]\n",
    "\n",
    "highs = [.6,.8,1]\n",
    "lows = [0,.2,.4]\n",
    "\n",
    "total = [0,.5,1]\n",
    "\n",
    "for h, l in itertools.product(highs,lows):\n",
    "\n",
    "    for i in range(2**3):\n",
    "        #l = 0.1\n",
    "        #h = 0.9\n",
    "        r = h if ((i & 2*2) >> 2) else l\n",
    "        g = h if ((i & 2) >> 1) else l\n",
    "        b = h if i & 1 else l\n",
    "        custom_colors.append(Color(rgb=[r,g,b]))"
   ]
  },
  {
   "cell_type": "code",
   "execution_count": 2,
   "metadata": {},
   "outputs": [
    {
     "data": {
      "image/png": "[encoded data removed]",
      "text/plain": [
       "<Figure size 432x288 with 1 Axes>"
      ]
     },
     "metadata": {},
     "output_type": "display_data"
    },
    {
     "data": {
      "text/plain": [
       "(<Figure size 432x288 with 1 Axes>,\n",
       " <matplotlib.axes._subplots.AxesSubplot at 0x2001275d4e0>)"
      ]
     },
     "execution_count": 2,
     "metadata": {},
     "output_type": "execute_result"
    }
   ],
   "source": [
    "custom_swatches = []\n",
    "\n",
    "settings = {\n",
    "        'width': 100,\n",
    "        'height': 100,\n",
    "        'spacing': 20,\n",
    "        'columns': 8,\n",
    "        'text_parameters': {\n",
    "            'size': 8\n",
    "        },\n",
    "        'background_colour': (.5,.5,.5)\n",
    "    }\n",
    "\n",
    "for c in custom_colors:\n",
    "    custom_swatches.append(ColourSwatch(RGB=c.RGB))\n",
    "    \n",
    "plot_multi_colour_swatches(custom_swatches, **settings)"
   ]
  },
  {
   "cell_type": "code",
   "execution_count": 3,
   "metadata": {},
   "outputs": [],
   "source": [
    "import math\n",
    "\n",
    "def ez_palette(swatches, filename=None, columns=None, background=(0,0,0), border=0, aspect=1):\n",
    "    if not columns:\n",
    "        columns = round(math.sqrt(len(swatches)*aspect))\n",
    "        \n",
    "    _figure, axes = artist()\n",
    "    settings = {\n",
    "        'axes': axes,\n",
    "        'width': 1,\n",
    "        'height': 1,\n",
    "        'spacing': .3,\n",
    "        'columns': columns,\n",
    "        'text_parameters': {\n",
    "            'size': 0\n",
    "        },\n",
    "        'background_colour': background,\n",
    "        'standalone': True\n",
    "    }\n",
    "    axes.get_xaxis().set_visible(False)\n",
    "    axes.get_yaxis().set_visible(False)\n",
    "    spines = [i[1] for i in axes.spines.items()]\n",
    "    for s in spines:\n",
    "        s.set_linewidth(border)\n",
    "        s.set_edgecolor(background)\n",
    "\n",
    "    result = plot_multi_colour_swatches(swatches, **settings)\n",
    "    \n",
    "    if filename:\n",
    "        result[0].savefig(filename, bbox_inches='tight', pad_inches=0.0)\n",
    "    \n",
    "    #print(len(swatches),factorint(len(swatches)))"
   ]
  },
  {
   "cell_type": "code",
   "execution_count": 4,
   "metadata": {},
   "outputs": [
    {
     "data": {
      "image/png": "[encoded data removed]",
      "text/plain": [
       "<Figure size 432x288 with 1 Axes>"
      ]
     },
     "metadata": {
      "needs_background": "light"
     },
     "output_type": "display_data"
    }
   ],
   "source": [
    "hsv_swatches = []\n",
    "\n",
    "n = 6\n",
    "values = [x/n for x in range(n+1)] \n",
    "\n",
    "\n",
    "for hsv in itertools.product(values, values, values):\n",
    "    if hsv[2] == 0 or hsv[0] == 1:\n",
    "        continue # exclude black; exclude phase rollover\n",
    "    rgb = colour.HSV_to_RGB(hsv)\n",
    "    ingamut = all(1 >= v >= 0 for v in rgb)\n",
    "    if ingamut:\n",
    "        hsv_swatches.append(ColourSwatch(RGB=rgb))\n",
    "\n",
    "ez_palette(hsv_swatches, filename='hsv.png', columns=21, background = (0,)*3, border=10)"
   ]
  },
  {
   "cell_type": "code",
   "execution_count": 5,
   "metadata": {},
   "outputs": [
    {
     "data": {
      "image/png": "[encoded data removed]",
      "text/plain": [
       "<Figure size 432x288 with 1 Axes>"
      ]
     },
     "metadata": {
      "needs_background": "light"
     },
     "output_type": "display_data"
    }
   ],
   "source": [
    "xyz_swatches = []\n",
    "\n",
    "n = 5\n",
    "values = [x/n for x in range(n+1)] \n",
    "\n",
    "for xyz in itertools.product(values, values, values):\n",
    "    rgb = colour.XYZ_to_sRGB(xyz)\n",
    "    ingamut = all(1 >= v >= 0 for v in rgb)\n",
    "    if ingamut:\n",
    "        xyz_swatches.append(ColourSwatch(RGB=rgb))\n",
    "        \n",
    "        \n",
    "def gray_swatches(qty):\n",
    "    # in rgb space\n",
    "    return[ColourSwatch(RGB=[v/(qty-1)]*3) for v in range(qty)]\n",
    "\n",
    "xyz_swatches = gray_swatches(3) + xyz_swatches[1:]\n",
    "\n",
    "ez_palette(xyz_swatches, filename='xyz{}.png'.format(n),columns=6)\n",
    "\n",
    "\n",
    "\n",
    "def swatches_to_csv(swatches, filename):\n",
    "    outstr = 'r,g,b'\n",
    "    for s in swatches:\n",
    "        rgb = s.RGB\n",
    "        outstr += '\\n{},{},{}'.format(*rgb)\n",
    "    with open(filename, 'w') as outfile:\n",
    "        outfile.write(outstr)\n",
    "        \n",
    "swatches_to_csv(xyz_swatches, 'xyz.swatch')"
   ]
  },
  {
   "cell_type": "code",
   "execution_count": 6,
   "metadata": {},
   "outputs": [
    {
     "data": {
      "image/png": "[encoded data removed]",
      "text/plain": [
       "<Figure size 432x288 with 1 Axes>"
      ]
     },
     "metadata": {
      "needs_background": "light"
     },
     "output_type": "display_data"
    }
   ],
   "source": [
    "rgb_swatches = [ColourSwatch(RGB=(0,0,0))]\n",
    "\n",
    "n = 4\n",
    "values = [x/n for x in range(n+1)] \n",
    "\n",
    "for rgb in itertools.product(values, values, values):\n",
    "    if all(v==0 for v in rgb):\n",
    "        continue # exclude black\n",
    "    rgb_swatches.append(ColourSwatch(RGB=rgb))    \n",
    "\n",
    "ez_palette(rgb_swatches, filename='rgb.png', columns=25, background = (0,)*3)"
   ]
  },
  {
   "cell_type": "code",
   "execution_count": 7,
   "metadata": {},
   "outputs": [
    {
     "name": "stdout",
     "output_type": "stream",
     "text": [
      "Starting with 125 and ending with 25: 100 iterations\n",
      "124  123  122  121  120  119  118  117  116  115  114  113  112  111  110  109  108  107  106  105  104  103  102  101  100  99  98  97  96  95  94  93  92  91  90  89  88  87  86  85  84  83  82  81  80  79  78  77  76  75  74  73  72  71  70  69  68  67  66  65  64  63  62  61  60  59  58  57  56  55  54  53  52  51  50  49  48  47  46  45  44  43  42  41  40  39  38  37  36  35  34  33  32  31  30  29  28  27  26  25  "
     ]
    },
    {
     "data": {
      "image/png": "[encoded data removed]",
      "text/plain": [
       "<Figure size 432x288 with 1 Axes>"
      ]
     },
     "metadata": {
      "needs_background": "light"
     },
     "output_type": "display_data"
    }
   ],
   "source": [
    "combo_swatches = rgb_swatches#hsv_swatches + xyz_swatches + rgb_swatches\n",
    "\n",
    "combo_rgb = [swatch.RGB for swatch in combo_swatches]\n",
    "combo_xyz = [colour.sRGB_to_XYZ(rgb) for rgb in combo_rgb]\n",
    "\n",
    "start_qty = len(combo_xyz)\n",
    "target_qty = 25\n",
    "\n",
    "print('Starting with {} and ending with {}: {} iterations'.format(start_qty, target_qty, start_qty-target_qty))\n",
    "\n",
    "def dist(a, b):\n",
    "    #Pythagorean/Ecludian distance (in XYZ space) squared\n",
    "    return sum([(an-bn)**2 for an, bn in zip(a,b)])\n",
    "\n",
    "removed_colors = []\n",
    "\n",
    "for i in range(start_qty - target_qty):\n",
    "    # remove colors which are most similar to their neighbors\n",
    "    ds = [2]*len(combo_xyz)\n",
    "    for ai, bi in itertools.combinations(range(len(combo_xyz)), 2):\n",
    "        #sim = 1/dist(a,b)\n",
    "        #ds[ai] += sim\n",
    "        #ds[bi] += sim\n",
    "        sim = dist(combo_xyz[ai], combo_xyz[bi])\n",
    "        ds[ai] = min(sim, ds[ai])\n",
    "        ds[bi] = min(sim, ds[bi])\n",
    "        \n",
    "        \n",
    "        \n",
    "    maxi = ds.index(min(ds))\n",
    "    removed_colors.append(combo_xyz.pop(maxi))\n",
    "    print(len(combo_xyz), end='  ')\n",
    "\n",
    "pruned_swatches = []\n",
    "for xyz in combo_xyz:\n",
    "    rgb = colour.XYZ_to_sRGB(xyz)\n",
    "    rgb = [1 if v>1 else v for v in rgb] # clip in-gamut to correct for floating point errors\n",
    "    pruned_swatches.append(ColourSwatch(RGB=rgb))\n",
    "    \n",
    "ez_palette(pruned_swatches, filename='pruned.png', columns=12)"
   ]
  },
  {
   "cell_type": "code",
   "execution_count": 8,
   "metadata": {},
   "outputs": [
    {
     "data": {
      "image/png": "[encoded data removed]",
      "text/plain": [
       "<Figure size 432x288 with 1 Axes>"
      ]
     },
     "metadata": {
      "needs_background": "light"
     },
     "output_type": "display_data"
    }
   ],
   "source": [
    "removed_swatches = []\n",
    "for xyz in removed_colors:\n",
    "    rgb = colour.XYZ_to_sRGB(xyz)\n",
    "    rgb = [1 if v>1 else v if v>0 else 0 for v in rgb] # clip in-gamut to correct for floating point errors\n",
    "    removed_swatches.append(ColourSwatch(RGB=rgb))\n",
    "    \n",
    "ez_palette(removed_swatches, filename='removed.png',)"
   ]
  },
  {
   "cell_type": "code",
   "execution_count": 9,
   "metadata": {},
   "outputs": [
    {
     "name": "stdout",
     "output_type": "stream",
     "text": [
      "[ 0.25203919  0.25204419  0.25203931]\n"
     ]
    },
    {
     "data": {
      "image/png": "[encoded data removed]",
      "text/plain": [
       "<Figure size 432x288 with 1 Axes>"
      ]
     },
     "metadata": {
      "needs_background": "light"
     },
     "output_type": "display_data"
    },
    {
     "data": {
      "text/plain": [
       "array([ 0.25203919,  0.25204419,  0.25203931])"
      ]
     },
     "execution_count": 9,
     "metadata": {},
     "output_type": "execute_result"
    }
   ],
   "source": [
    "import numpy as np\n",
    "\n",
    "def average_sRGB(rgbs):\n",
    "    XYZs = []\n",
    "    for rgb in rgbs:\n",
    "        XYZs.append(colour.sRGB_to_XYZ(rgb))\n",
    "    XYZs = np.array(XYZs)\n",
    "    avg_XYZ = np.average(XYZs, axis=0)\n",
    "    return colour.XYZ_to_sRGB(avg_XYZ)\n",
    "\n",
    "def invavg_sRGB(a, b):\n",
    "    # returns c such that (a+c)/2 = b\n",
    "    # (b is the average of a and c)\n",
    "    A = colour.sRGB_to_XYZ(a)\n",
    "    B = colour.sRGB_to_XYZ(b)\n",
    "    C = 2*B - A\n",
    "    c = colour.XYZ_to_sRGB(C)\n",
    "    print(c)\n",
    "    ez_palette([ColourSwatch(RGB=v) for v in [a,b,c]], columns=3)\n",
    "    return c\n",
    "    \n",
    "invavg_sRGB([.5,.5,.5],[.4,.4,.4])"
   ]
  },
  {
   "cell_type": "code",
   "execution_count": 10,
   "metadata": {},
   "outputs": [
    {
     "name": "stdout",
     "output_type": "stream",
     "text": [
      "[ 0.89413715  0.65706484  0.9508583 ]\n"
     ]
    },
    {
     "data": {
      "image/png": "[encoded data removed]",
      "text/plain": [
       "<Figure size 432x288 with 1 Axes>"
      ]
     },
     "metadata": {
      "needs_background": "light"
     },
     "output_type": "display_data"
    },
    {
     "name": "stdout",
     "output_type": "stream",
     "text": [
      "[228.0, 168.0, 242.0]\n"
     ]
    }
   ],
   "source": [
    "scalergbs = [\n",
    "    [255, 0, 210],\n",
    "    [242, 122, 227]\n",
    "]\n",
    "\n",
    "rgbs = []\n",
    "for rgb in scalergbs:\n",
    "    rgbs.append([v/255 for v in rgb])\n",
    "    \n",
    "try:\n",
    "    print([round(v*255) for v in invavg_sRGB(*rgbs)])\n",
    "except ValueError:\n",
    "    print(\"Mix impossible!\")"
   ]
  },
  {
   "cell_type": "code",
   "execution_count": 54,
   "metadata": {},
   "outputs": [],
   "source": [
    "from scipy.optimize import minimize, Bounds\n",
    "\n",
    "def clip_vector(vec):\n",
    "    return [1 if v>1 else v if v>0 else 0 for v in vec]\n",
    "\n",
    "cv = clip_vector\n",
    "\n",
    "def vec_to_hex(vec):\n",
    "    # input domain [0,1]\n",
    "    outstr = ''\n",
    "    for v in vec:\n",
    "        outstr += hex(int(v*255))[2:].zfill(2)\n",
    "        \n",
    "    return outstr\n",
    "\n",
    "def create_pair(target_rgb8, algo = 1, verbose = 0):\n",
    "    if algo == -1: # do all the algos\n",
    "        return [create_pair(target_rgb8, algo=i, verbose=verbose) for i in range(2)]\n",
    "    \n",
    "    t = [v/255 for v in target_rgb8]\n",
    "    \n",
    "    T = colour.sRGB_to_XYZ(t)\n",
    "    \n",
    "    if algo == 0:\n",
    "        # scale all components uniformly. invert and reduce scaling each iteration.\n",
    "        scalar = 10\n",
    "        iter_scalar = -1 - 1e-2\n",
    "        iters = 0 # -1 when done\n",
    "        while iters != -1 and iters < 1e3:\n",
    "            A = cv([v*scalar for v in T])\n",
    "            a = colour.XYZ_to_sRGB(A)\n",
    "\n",
    "            b = colour.XYZ_to_sRGB(2*T - A)\n",
    "\n",
    "            if np.array_equal(b, cv(b)) and np.array_equal(a, cv(a)):\n",
    "\n",
    "                ez_palette([ColourSwatch(RGB=v) for v in [a,t,b]], columns=3)\n",
    "\n",
    "                return vec_to_hex(a), vec_to_hex(b)\n",
    "\n",
    "            iters += 1\n",
    "            scalar /= iter_scalar\n",
    "\n",
    "        return -1\n",
    "    \n",
    "    if algo == 1:\n",
    "        # find most extreme color using optimization techniques\n",
    "        \n",
    "        def loss(A):\n",
    "            \n",
    "            a = colour.XYZ_to_sRGB(A)\n",
    "            B = 2*T - A\n",
    "            b = colour.XYZ_to_sRGB(B)\n",
    "            \n",
    "            if np.array_equal(a, cv(a)) and np.array_equal(b, cv(b)):\n",
    "                # valid colors!\n",
    "                d = np.sqrt(sum([(an-bn)**2 for an, bn in zip(T, A)]))\n",
    "                return -d\n",
    "                \n",
    "            else:\n",
    "                return 100\n",
    "            \n",
    "        res = minimize(loss, T, method='Nelder-Mead',\n",
    "                       options={'disp':verbose, 'maxfev': 3e3})\n",
    "        \n",
    "        A = res.x\n",
    "        a = colour.XYZ_to_sRGB(A)\n",
    "        b = colour.XYZ_to_sRGB(2*T - A)\n",
    "        \n",
    "        if np.array_equal(b, cv(b)) and np.array_equal(a, cv(a)):\n",
    "\n",
    "                ez_palette([ColourSwatch(RGB=v) for v in [a,t,b]], columns=3)\n",
    "\n",
    "                return vec_to_hex(a), vec_to_hex(b)\n",
    "        else:\n",
    "            print(\"Optimization failure\")\n",
    "            return -1\n",
    "        \n",
    "        \n",
    "            \n",
    "            \n",
    "        \n",
    "    \n",
    "    \n",
    "    "
   ]
  },
  {
   "cell_type": "code",
   "execution_count": 52,
   "metadata": {},
   "outputs": [
    {
     "data": {
      "image/png": "[encoded data removed]",
      "text/plain": [
       "<Figure size 432x288 with 1 Axes>"
      ]
     },
     "metadata": {
      "needs_background": "light"
     },
     "output_type": "display_data"
    },
    {
     "data": {
      "image/png": "[encoded data removed]",
      "text/plain": [
       "<Figure size 432x288 with 1 Axes>"
      ]
     },
     "metadata": {
      "needs_background": "light"
     },
     "output_type": "display_data"
    },
    {
     "data": {
      "text/plain": [
       "[('499cfd', '204d81'), ('4d00fe', '13ab7d')]"
      ]
     },
     "execution_count": 52,
     "metadata": {},
     "output_type": "execute_result"
    }
   ],
   "source": [
    "create_pair((57,125,204), algo=-1)"
   ]
  },
  {
   "cell_type": "code",
   "execution_count": 53,
   "metadata": {},
   "outputs": [
    {
     "data": {
      "image/png": "[encoded data removed]",
      "text/plain": [
       "<Figure size 432x288 with 1 Axes>"
      ]
     },
     "metadata": {
      "needs_background": "light"
     },
     "output_type": "display_data"
    },
    {
     "data": {
      "image/png": "[encoded data removed]",
      "text/plain": [
       "<Figure size 432x288 with 1 Axes>"
      ]
     },
     "metadata": {
      "needs_background": "light"
     },
     "output_type": "display_data"
    },
    {
     "data": {
      "text/plain": [
       "[('e1daf9', '10487d'), ('d700fe', '4fe36d')]"
      ]
     },
     "execution_count": 53,
     "metadata": {},
     "output_type": "execute_result"
    }
   ],
   "source": [
    "create_pair((166,167,200), algo=-1)"
   ]
  },
  {
   "cell_type": "code",
   "execution_count": 32,
   "metadata": {},
   "outputs": [
    {
     "name": "stdout",
     "output_type": "stream",
     "text": [
      "Optimization terminated successfully.\n",
      "         Current function value: -0.209124\n",
      "         Iterations: 79\n",
      "         Function evaluations: 151\n"
     ]
    },
    {
     "data": {
      "image/png": "[encoded data removed]",
      "text/plain": [
       "<Figure size 432x288 with 1 Axes>"
      ]
     },
     "metadata": {
      "needs_background": "light"
     },
     "output_type": "display_data"
    },
    {
     "data": {
      "text/plain": [
       "('ee3dfe', 'fea0cb')"
      ]
     },
     "execution_count": 32,
     "metadata": {},
     "output_type": "execute_result"
    }
   ],
   "source": [
    "create_pair((247,124,231), 1)"
   ]
  },
  {
   "cell_type": "code",
   "execution_count": 33,
   "metadata": {},
   "outputs": [
    {
     "name": "stdout",
     "output_type": "stream",
     "text": [
      "Optimization terminated successfully.\n",
      "         Current function value: -0.218661\n",
      "         Iterations: 66\n",
      "         Function evaluations: 129\n"
     ]
    },
    {
     "data": {
      "image/png": "[encoded data removed]",
      "text/plain": [
       "<Figure size 432x288 with 1 Axes>"
      ]
     },
     "metadata": {
      "needs_background": "light"
     },
     "output_type": "display_data"
    },
    {
     "data": {
      "text/plain": [
       "('fefe01', '84ee70')"
      ]
     },
     "execution_count": 33,
     "metadata": {},
     "output_type": "execute_result"
    }
   ],
   "source": [
    "create_pair((206,247,81), 1)"
   ]
  },
  {
   "cell_type": "code",
   "execution_count": 37,
   "metadata": {},
   "outputs": [
    {
     "data": {
      "image/png": "[encoded data removed]",
      "text/plain": [
       "<Figure size 432x288 with 1 Axes>"
      ]
     },
     "metadata": {
      "needs_background": "light"
     },
     "output_type": "display_data"
    },
    {
     "data": {
      "text/plain": [
       "('feecf6', 'ddd9f9')"
      ]
     },
     "execution_count": 37,
     "metadata": {},
     "output_type": "execute_result"
    }
   ],
   "source": [
    "create_pair((239, 227, 248), 0)"
   ]
  },
  {
   "cell_type": "code",
   "execution_count": 55,
   "metadata": {},
   "outputs": [
    {
     "data": {
      "image/png": "[encoded data removed]",
      "text/plain": [
       "<Figure size 432x288 with 1 Axes>"
      ]
     },
     "metadata": {
      "needs_background": "light"
     },
     "output_type": "display_data"
    },
    {
     "data": {
      "image/png": "[encoded data removed]",
      "text/plain": [
       "<Figure size 432x288 with 1 Axes>"
      ]
     },
     "metadata": {
      "needs_background": "light"
     },
     "output_type": "display_data"
    },
    {
     "data": {
      "text/plain": [
       "[('000000', 'afafaf'), ('01aeaf', 'af1300')]"
      ]
     },
     "execution_count": 55,
     "metadata": {},
     "output_type": "execute_result"
    }
   ],
   "source": [
    "create_pair((128,)*3, -1)"
   ]
  },
  {
   "cell_type": "code",
   "execution_count": 56,
   "metadata": {},
   "outputs": [
    {
     "data": {
      "image/png": "[encoded data removed]",
      "text/plain": [
       "<Figure size 432x288 with 1 Axes>"
      ]
     },
     "metadata": {
      "needs_background": "light"
     },
     "output_type": "display_data"
    },
    {
     "data": {
      "image/png": "[encoded data removed]",
      "text/plain": [
       "<Figure size 432x288 with 1 Axes>"
      ]
     },
     "metadata": {
      "needs_background": "light"
     },
     "output_type": "display_data"
    },
    {
     "data": {
      "text/plain": [
       "[('fe0fbc', 'c80994'), ('c902e7', 'fe1400')]"
      ]
     },
     "execution_count": 56,
     "metadata": {},
     "output_type": "execute_result"
    }
   ],
   "source": [
    "create_pair((230,13,170), -1)"
   ]
  },
  {
   "cell_type": "code",
   "execution_count": 57,
   "metadata": {},
   "outputs": [
    {
     "data": {
      "image/png": "[encoded data removed]",
      "text/plain": [
       "<Figure size 432x288 with 1 Axes>"
      ]
     },
     "metadata": {
      "needs_background": "light"
     },
     "output_type": "display_data"
    },
    {
     "data": {
      "image/png": "[encoded data removed]",
      "text/plain": [
       "<Figure size 432x288 with 1 Axes>"
      ]
     },
     "metadata": {
      "needs_background": "light"
     },
     "output_type": "display_data"
    },
    {
     "data": {
      "text/plain": [
       "[('c3cbfb', '2279cb'), ('00bbfe', 'c693c6')]"
      ]
     },
     "execution_count": 57,
     "metadata": {},
     "output_type": "execute_result"
    }
   ],
   "source": [
    "create_pair((145,169,229), -1)"
   ]
  },
  {
   "cell_type": "code",
   "execution_count": 58,
   "metadata": {},
   "outputs": [
    {
     "data": {
      "image/png": "[encoded data removed]",
      "text/plain": [
       "<Figure size 432x288 with 1 Axes>"
      ]
     },
     "metadata": {
      "needs_background": "light"
     },
     "output_type": "display_data"
    },
    {
     "data": {
      "image/png": "[encoded data removed]",
      "text/plain": [
       "<Figure size 432x288 with 1 Axes>"
      ]
     },
     "metadata": {
      "needs_background": "light"
     },
     "output_type": "display_data"
    },
    {
     "data": {
      "text/plain": [
       "[('feca65', 'edbd5e'), ('fefe0a', 'ec5c86')]"
      ]
     },
     "execution_count": 58,
     "metadata": {},
     "output_type": "execute_result"
    }
   ],
   "source": [
    "create_pair((246,196,98), -1)"
   ]
  },
  {
   "cell_type": "code",
   "execution_count": 60,
   "metadata": {},
   "outputs": [
    {
     "data": {
      "image/png": "[encoded data removed]",
      "text/plain": [
       "<Figure size 432x288 with 1 Axes>"
      ]
     },
     "metadata": {
      "needs_background": "light"
     },
     "output_type": "display_data"
    },
    {
     "data": {
      "image/png": "[encoded data removed]",
      "text/plain": [
       "<Figure size 432x288 with 1 Axes>"
      ]
     },
     "metadata": {
      "needs_background": "light"
     },
     "output_type": "display_data"
    },
    {
     "data": {
      "text/plain": [
       "[('c2fd96', 'b9f18f'), ('fafec8', '4af000')]"
      ]
     },
     "execution_count": 60,
     "metadata": {},
     "output_type": "execute_result"
    }
   ],
   "source": [
    "create_pair((190,248,147), -1)"
   ]
  },
  {
   "cell_type": "code",
   "execution_count": null,
   "metadata": {},
   "outputs": [],
   "source": []
  }
 ],
 "metadata": {
  "kernelspec": {
   "display_name": "Python 3",
   "language": "python",
   "name": "python3"
  },
  "language_info": {
   "codemirror_mode": {
    "name": "ipython",
    "version": 3
   },
   "file_extension": ".py",
   "mimetype": "text/x-python",
   "name": "python",
   "nbconvert_exporter": "python",
   "pygments_lexer": "ipython3",
   "version": "3.7.1"
  }
 },
 "nbformat": 4,
 "nbformat_minor": 2
}
